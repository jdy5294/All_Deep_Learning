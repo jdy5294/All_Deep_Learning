{
  "cells": [
    {
      "cell_type": "markdown",
      "metadata": {
        "id": "view-in-github",
        "colab_type": "text"
      },
      "source": [
        "<a href=\"https://colab.research.google.com/github/jdy5294/All_Deep_Learning/blob/main/Code/CH20.ipynb\" target=\"_parent\"><img src=\"https://colab.research.google.com/assets/colab-badge.svg\" alt=\"Open In Colab\"/></a>"
      ]
    },
    {
      "cell_type": "markdown",
      "metadata": {
        "id": "P0I8HGxUw97B"
      },
      "source": [
        "# 20장 전이 학습을 통해 딥러닝의 성능 극대화하기"
      ]
    },
    {
      "cell_type": "markdown",
      "metadata": {
        "id": "J-dqKaIPw97E"
      },
      "source": [
        "## 1. 소규모 데이터셋으로 만드는 강력한 학습 모델"
      ]
    },
    {
      "cell_type": "markdown",
      "metadata": {
        "id": "HSlfKpYlw97F"
      },
      "source": [
        "### 실습: 치매 환자의 뇌인지 일반인의 뇌인지 예측하기"
      ]
    },
    {
      "cell_type": "code",
      "source": [
        "from tensorflow.keras.models import Sequential\n",
        "from tensorflow.keras.layers import Dense, Activation, Dropout, Flatten, Conv2D, MaxPooling2D\n",
        "from tensorflow.keras.preprocessing.image import ImageDataGenerator\n",
        "from tensorflow.keras.callbacks import EarlyStopping\n",
        "from tensorflow.keras import optimizers\n",
        "\n",
        "import numpy as np\n",
        "import matplotlib.pyplot as plt\n",
        "\n",
        "!git clone https://github.com/taehojo/data-ch20.git"
      ],
      "metadata": {
        "colab": {
          "base_uri": "https://localhost:8080/"
        },
        "id": "cG0sYajPUsDM",
        "outputId": "e594a1f2-1131-46bf-d2d5-056c4d091bb4"
      },
      "execution_count": 1,
      "outputs": [
        {
          "output_type": "stream",
          "name": "stdout",
          "text": [
            "Cloning into 'data-ch20'...\n",
            "remote: Enumerating objects: 265, done.\u001b[K\n",
            "remote: Counting objects: 100% (265/265), done.\u001b[K\n",
            "remote: Compressing objects: 100% (265/265), done.\u001b[K\n",
            "remote: Total 265 (delta 0), reused 265 (delta 0), pack-reused 0\u001b[K\n",
            "Receiving objects: 100% (265/265), 1.86 MiB | 10.47 MiB/s, done.\n"
          ]
        }
      ]
    },
    {
      "cell_type": "code",
      "source": [
        "# 데이터 부풀리기: train set에만 적용\n",
        "train_datagen = ImageDataGenerator(rescale=1./255,          # 주어진 이미지 0~1 사이 값으로 변환\n",
        "                                  horizontal_flip=True,     # 수평 대칭 이미지를 50% 확률로 만들어 추가\n",
        "                                  width_shift_range=0.1,    # 전체 크기의 10% 범위에서 좌우로 이동\n",
        "                                  height_shift_range=0.1,   # 마찬가지로 위, 아래로 이동\n",
        "                                  #rotation_range=5,        # 정해진 각도만큼 회전\n",
        "                                  #shear_range=0.7,         # 좌표 하나를 고정시키고 나머지를 이동\n",
        "                                  #zoom_range=1.2,          # 확대 또는 축소\n",
        "                                  #vertical_flip=True,      # 수직 대칭 이미지 생성\n",
        "                                  #fill_mode='nearest'      # 빈 공간을 채우는 방법 (nearest: 가장 비슷한 색으로 채우기)\n",
        "                                  )\n",
        "\n",
        "train_generator = train_datagen.flow_from_directory(\n",
        "       './data-ch20/train',\n",
        "       target_size=(150, 150),  # 이미지 크기\n",
        "       batch_size=5,\n",
        "       class_mode='binary')\n",
        "\n",
        "test_datagen = ImageDataGenerator(rescale=1./255)\n",
        "\n",
        "test_generator = test_datagen.flow_from_directory(\n",
        "       './data-ch20/test',\n",
        "       target_size=(150, 150),\n",
        "       batch_size=5,\n",
        "       class_mode='binary')"
      ],
      "metadata": {
        "colab": {
          "base_uri": "https://localhost:8080/"
        },
        "id": "K-nqIg1cVDoY",
        "outputId": "f5b6ea49-27b9-4dea-eec6-3df1d1a871bd"
      },
      "execution_count": 2,
      "outputs": [
        {
          "output_type": "stream",
          "name": "stdout",
          "text": [
            "Found 160 images belonging to 2 classes.\n",
            "Found 120 images belonging to 2 classes.\n"
          ]
        }
      ]
    },
    {
      "cell_type": "code",
      "execution_count": 3,
      "metadata": {
        "id": "xP-yRE_nw97F",
        "outputId": "c1a9364f-af44-47b8-974f-427474413893",
        "scrolled": true,
        "colab": {
          "base_uri": "https://localhost:8080/"
        }
      },
      "outputs": [
        {
          "output_type": "stream",
          "name": "stdout",
          "text": [
            "Model: \"sequential\"\n",
            "_________________________________________________________________\n",
            " Layer (type)                Output Shape              Param #   \n",
            "=================================================================\n",
            " conv2d (Conv2D)             (None, 148, 148, 32)      896       \n",
            "                                                                 \n",
            " activation (Activation)     (None, 148, 148, 32)      0         \n",
            "                                                                 \n",
            " max_pooling2d (MaxPooling2  (None, 74, 74, 32)        0         \n",
            " D)                                                              \n",
            "                                                                 \n",
            " conv2d_1 (Conv2D)           (None, 72, 72, 32)        9248      \n",
            "                                                                 \n",
            " activation_1 (Activation)   (None, 72, 72, 32)        0         \n",
            "                                                                 \n",
            " max_pooling2d_1 (MaxPoolin  (None, 36, 36, 32)        0         \n",
            " g2D)                                                            \n",
            "                                                                 \n",
            " conv2d_2 (Conv2D)           (None, 34, 34, 64)        18496     \n",
            "                                                                 \n",
            " activation_2 (Activation)   (None, 34, 34, 64)        0         \n",
            "                                                                 \n",
            " max_pooling2d_2 (MaxPoolin  (None, 17, 17, 64)        0         \n",
            " g2D)                                                            \n",
            "                                                                 \n",
            " flatten (Flatten)           (None, 18496)             0         \n",
            "                                                                 \n",
            " dense (Dense)               (None, 64)                1183808   \n",
            "                                                                 \n",
            " activation_3 (Activation)   (None, 64)                0         \n",
            "                                                                 \n",
            " dropout (Dropout)           (None, 64)                0         \n",
            "                                                                 \n",
            " dense_1 (Dense)             (None, 1)                 65        \n",
            "                                                                 \n",
            " activation_4 (Activation)   (None, 1)                 0         \n",
            "                                                                 \n",
            "=================================================================\n",
            "Total params: 1212513 (4.63 MB)\n",
            "Trainable params: 1212513 (4.63 MB)\n",
            "Non-trainable params: 0 (0.00 Byte)\n",
            "_________________________________________________________________\n"
          ]
        }
      ],
      "source": [
        "model = Sequential()\n",
        "model.add(Conv2D(32, (3, 3), input_shape=(150,150,3)))\n",
        "model.add(Activation('relu'))\n",
        "model.add(MaxPooling2D(pool_size=(2, 2)))\n",
        "\n",
        "model.add(Conv2D(32, (3, 3)))\n",
        "model.add(Activation('relu'))\n",
        "model.add(MaxPooling2D(pool_size=(2, 2)))\n",
        "\n",
        "model.add(Conv2D(64, (3, 3)))\n",
        "model.add(Activation('relu'))\n",
        "model.add(MaxPooling2D(pool_size=(2, 2)))\n",
        "\n",
        "model.add(Flatten())\n",
        "model.add(Dense(64))\n",
        "model.add(Activation('relu'))\n",
        "model.add(Dropout(0.5))\n",
        "model.add(Dense(1))\n",
        "model.add(Activation('sigmoid'))\n",
        "model.summary()"
      ]
    },
    {
      "cell_type": "code",
      "execution_count": 4,
      "metadata": {
        "id": "zK54RC2Fw97I",
        "outputId": "a920c63a-83a2-4c50-d4e3-e9a53aa2bc6b",
        "scrolled": true,
        "colab": {
          "base_uri": "https://localhost:8080/"
        }
      },
      "outputs": [
        {
          "output_type": "stream",
          "name": "stdout",
          "text": [
            "Epoch 1/100\n",
            "32/32 [==============================] - 9s 224ms/step - loss: 0.7027 - accuracy: 0.5000 - val_loss: 0.6901 - val_accuracy: 0.4800\n",
            "Epoch 2/100\n",
            "32/32 [==============================] - 6s 172ms/step - loss: 0.6976 - accuracy: 0.5125 - val_loss: 0.6815 - val_accuracy: 0.5800\n",
            "Epoch 3/100\n",
            "32/32 [==============================] - 6s 172ms/step - loss: 0.6857 - accuracy: 0.6313 - val_loss: 0.6838 - val_accuracy: 0.6200\n",
            "Epoch 4/100\n",
            "32/32 [==============================] - 6s 191ms/step - loss: 0.6831 - accuracy: 0.5813 - val_loss: 0.6841 - val_accuracy: 0.4600\n",
            "Epoch 5/100\n",
            "32/32 [==============================] - 7s 208ms/step - loss: 0.6605 - accuracy: 0.6625 - val_loss: 0.6461 - val_accuracy: 0.5600\n",
            "Epoch 6/100\n",
            "32/32 [==============================] - 6s 172ms/step - loss: 0.6551 - accuracy: 0.5938 - val_loss: 0.6463 - val_accuracy: 0.5200\n",
            "Epoch 7/100\n",
            "32/32 [==============================] - 5s 170ms/step - loss: 0.6172 - accuracy: 0.7000 - val_loss: 0.5940 - val_accuracy: 0.7600\n",
            "Epoch 8/100\n",
            "32/32 [==============================] - 5s 170ms/step - loss: 0.5662 - accuracy: 0.7312 - val_loss: 0.4979 - val_accuracy: 0.7600\n",
            "Epoch 9/100\n",
            "32/32 [==============================] - 7s 210ms/step - loss: 0.5606 - accuracy: 0.7375 - val_loss: 0.4860 - val_accuracy: 0.8000\n",
            "Epoch 10/100\n",
            "32/32 [==============================] - 5s 170ms/step - loss: 0.4894 - accuracy: 0.8000 - val_loss: 0.4466 - val_accuracy: 0.8000\n",
            "Epoch 11/100\n",
            "32/32 [==============================] - 6s 195ms/step - loss: 0.4400 - accuracy: 0.8500 - val_loss: 0.4252 - val_accuracy: 0.7600\n",
            "Epoch 12/100\n",
            "32/32 [==============================] - 5s 163ms/step - loss: 0.4059 - accuracy: 0.8438 - val_loss: 0.3409 - val_accuracy: 0.8800\n",
            "Epoch 13/100\n",
            "32/32 [==============================] - 5s 161ms/step - loss: 0.3796 - accuracy: 0.8250 - val_loss: 0.2759 - val_accuracy: 0.8600\n",
            "Epoch 14/100\n",
            "32/32 [==============================] - 7s 207ms/step - loss: 0.3667 - accuracy: 0.8625 - val_loss: 0.3860 - val_accuracy: 0.7600\n",
            "Epoch 15/100\n",
            "32/32 [==============================] - 6s 193ms/step - loss: 0.3544 - accuracy: 0.8813 - val_loss: 0.2454 - val_accuracy: 0.9200\n",
            "Epoch 16/100\n",
            "32/32 [==============================] - 6s 170ms/step - loss: 0.2672 - accuracy: 0.9000 - val_loss: 0.1696 - val_accuracy: 0.9800\n",
            "Epoch 17/100\n",
            "32/32 [==============================] - 5s 169ms/step - loss: 0.1988 - accuracy: 0.9250 - val_loss: 0.1160 - val_accuracy: 1.0000\n",
            "Epoch 18/100\n",
            "32/32 [==============================] - 6s 171ms/step - loss: 0.2089 - accuracy: 0.9500 - val_loss: 0.1615 - val_accuracy: 0.9400\n",
            "Epoch 19/100\n",
            "32/32 [==============================] - 5s 170ms/step - loss: 0.2057 - accuracy: 0.9000 - val_loss: 0.1154 - val_accuracy: 0.9600\n",
            "Epoch 20/100\n",
            "32/32 [==============================] - 6s 199ms/step - loss: 0.2289 - accuracy: 0.9000 - val_loss: 0.1214 - val_accuracy: 1.0000\n",
            "Epoch 21/100\n",
            "32/32 [==============================] - 6s 172ms/step - loss: 0.1746 - accuracy: 0.9563 - val_loss: 0.1245 - val_accuracy: 0.9800\n",
            "Epoch 22/100\n",
            "32/32 [==============================] - 6s 193ms/step - loss: 0.1711 - accuracy: 0.9375 - val_loss: 0.2031 - val_accuracy: 0.8800\n",
            "Epoch 23/100\n",
            "32/32 [==============================] - 6s 171ms/step - loss: 0.1669 - accuracy: 0.9375 - val_loss: 0.2041 - val_accuracy: 0.8800\n",
            "Epoch 24/100\n",
            "32/32 [==============================] - 5s 170ms/step - loss: 0.1106 - accuracy: 0.9688 - val_loss: 0.2529 - val_accuracy: 0.8800\n"
          ]
        }
      ],
      "source": [
        "model.compile(loss='binary_crossentropy', optimizer=optimizers.Adam(learning_rate=0.0002), metrics=['accuracy'])\n",
        "\n",
        "early_stopping_callback = EarlyStopping(monitor='val_loss', patience=5)\n",
        "\n",
        "history = model.fit(\n",
        "       train_generator,\n",
        "       epochs=100,\n",
        "       validation_data=test_generator,\n",
        "       validation_steps=10,\n",
        "       callbacks=[early_stopping_callback])"
      ]
    },
    {
      "cell_type": "code",
      "execution_count": 5,
      "metadata": {
        "id": "4-J_QCbXw97I",
        "outputId": "fee678da-112d-4c5b-d6a1-2a2246e06e72",
        "colab": {
          "base_uri": "https://localhost:8080/",
          "height": 449
        }
      },
      "outputs": [
        {
          "output_type": "display_data",
          "data": {
            "text/plain": [
              "<Figure size 640x480 with 1 Axes>"
            ],
            "image/png": "[encoded data removed]"
          },
          "metadata": {}
        }
      ],
      "source": [
        "y_vloss = history.history['val_loss']\n",
        "y_loss = history.history['loss']\n",
        "\n",
        "x_len = np.arange(len(y_loss))\n",
        "plt.plot(x_len, y_vloss, marker='.', c=\"red\", label='Testset_loss')\n",
        "plt.plot(x_len, y_loss, marker='.', c=\"blue\", label='Trainset_loss')\n",
        "\n",
        "plt.legend(loc='upper right')\n",
        "plt.grid()\n",
        "plt.xlabel('epoch')\n",
        "plt.ylabel('loss')\n",
        "plt.show()"
      ]
    },
    {
      "cell_type": "markdown",
      "metadata": {
        "id": "PyEFjTCww97J"
      },
      "source": [
        "## 2. 전이 학습으로 모델 성능 극대화하기"
      ]
    },
    {
      "cell_type": "markdown",
      "metadata": {
        "id": "Q0AiZr6nw97J"
      },
      "source": [
        "### 실습: 전이 학습 실습하기"
      ]
    },
    {
      "cell_type": "code",
      "execution_count": 6,
      "metadata": {
        "id": "qKZwSZv8w97K",
        "outputId": "cc26f51d-78ff-4837-f18d-65552fdfb3b9",
        "colab": {
          "base_uri": "https://localhost:8080/"
        }
      },
      "outputs": [
        {
          "output_type": "stream",
          "name": "stdout",
          "text": [
            "Downloading data from https://storage.googleapis.com/tensorflow/keras-applications/vgg16/vgg16_weights_tf_dim_ordering_tf_kernels_notop.h5\n",
            "58889256/58889256 [==============================] - 0s 0us/step\n",
            "Model: \"vgg16\"\n",
            "_________________________________________________________________\n",
            " Layer (type)                Output Shape              Param #   \n",
            "=================================================================\n",
            " input_1 (InputLayer)        [(None, 150, 150, 3)]     0         \n",
            "                                                                 \n",
            " block1_conv1 (Conv2D)       (None, 150, 150, 64)      1792      \n",
            "                                                                 \n",
            " block1_conv2 (Conv2D)       (None, 150, 150, 64)      36928     \n",
            "                                                                 \n",
            " block1_pool (MaxPooling2D)  (None, 75, 75, 64)        0         \n",
            "                                                                 \n",
            " block2_conv1 (Conv2D)       (None, 75, 75, 128)       73856     \n",
            "                                                                 \n",
            " block2_conv2 (Conv2D)       (None, 75, 75, 128)       147584    \n",
            "                                                                 \n",
            " block2_pool (MaxPooling2D)  (None, 37, 37, 128)       0         \n",
            "                                                                 \n",
            " block3_conv1 (Conv2D)       (None, 37, 37, 256)       295168    \n",
            "                                                                 \n",
            " block3_conv2 (Conv2D)       (None, 37, 37, 256)       590080    \n",
            "                                                                 \n",
            " block3_conv3 (Conv2D)       (None, 37, 37, 256)       590080    \n",
            "                                                                 \n",
            " block3_pool (MaxPooling2D)  (None, 18, 18, 256)       0         \n",
            "                                                                 \n",
            " block4_conv1 (Conv2D)       (None, 18, 18, 512)       1180160   \n",
            "                                                                 \n",
            " block4_conv2 (Conv2D)       (None, 18, 18, 512)       2359808   \n",
            "                                                                 \n",
            " block4_conv3 (Conv2D)       (None, 18, 18, 512)       2359808   \n",
            "                                                                 \n",
            " block4_pool (MaxPooling2D)  (None, 9, 9, 512)         0         \n",
            "                                                                 \n",
            " block5_conv1 (Conv2D)       (None, 9, 9, 512)         2359808   \n",
            "                                                                 \n",
            " block5_conv2 (Conv2D)       (None, 9, 9, 512)         2359808   \n",
            "                                                                 \n",
            " block5_conv3 (Conv2D)       (None, 9, 9, 512)         2359808   \n",
            "                                                                 \n",
            " block5_pool (MaxPooling2D)  (None, 4, 4, 512)         0         \n",
            "                                                                 \n",
            "=================================================================\n",
            "Total params: 14714688 (56.13 MB)\n",
            "Trainable params: 0 (0.00 Byte)\n",
            "Non-trainable params: 14714688 (56.13 MB)\n",
            "_________________________________________________________________\n",
            "Model: \"sequential_1\"\n",
            "_________________________________________________________________\n",
            " Layer (type)                Output Shape              Param #   \n",
            "=================================================================\n",
            " vgg16 (Functional)          (None, 4, 4, 512)         14714688  \n",
            "                                                                 \n",
            " flatten_1 (Flatten)         (None, 8192)              0         \n",
            "                                                                 \n",
            " dense_2 (Dense)             (None, 64)                524352    \n",
            "                                                                 \n",
            " activation_5 (Activation)   (None, 64)                0         \n",
            "                                                                 \n",
            " dropout_1 (Dropout)         (None, 64)                0         \n",
            "                                                                 \n",
            " dense_3 (Dense)             (None, 1)                 65        \n",
            "                                                                 \n",
            " activation_6 (Activation)   (None, 1)                 0         \n",
            "                                                                 \n",
            "=================================================================\n",
            "Total params: 15239105 (58.13 MB)\n",
            "Trainable params: 524417 (2.00 MB)\n",
            "Non-trainable params: 14714688 (56.13 MB)\n",
            "_________________________________________________________________\n"
          ]
        }
      ],
      "source": [
        "#from tensorflow.keras import Input, layers, metrics\n",
        "\n",
        "from tensorflow.keras.applications import VGG16\n",
        "\n",
        "# VGG16 모델 호출\n",
        "transfer_model = VGG16(weights='imagenet', include_top=False, input_shape=(150, 150, 3))\n",
        "transfer_model.trainable = False\n",
        "transfer_model.summary()\n",
        "\n",
        "finetune_model = Sequential()\n",
        "finetune_model.add(transfer_model)\n",
        "finetune_model.add(Flatten())\n",
        "finetune_model.add(Dense(64))\n",
        "finetune_model.add(Activation('relu'))\n",
        "finetune_model.add(Dropout(0.5))\n",
        "finetune_model.add(Dense(1))\n",
        "finetune_model.add(Activation('sigmoid'))\n",
        "finetune_model.summary()"
      ]
    },
    {
      "cell_type": "code",
      "execution_count": 7,
      "metadata": {
        "id": "_jYrHsjLw97L",
        "outputId": "a7b0c8e8-0880-4d86-fe58-0c6b281a1255",
        "colab": {
          "base_uri": "https://localhost:8080/"
        }
      },
      "outputs": [
        {
          "output_type": "stream",
          "name": "stdout",
          "text": [
            "Epoch 1/20\n",
            "32/32 [==============================] - 69s 2s/step - loss: 0.7302 - accuracy: 0.5437 - val_loss: 0.6004 - val_accuracy: 0.7200\n",
            "Epoch 2/20\n",
            "32/32 [==============================] - 60s 2s/step - loss: 0.5095 - accuracy: 0.7688 - val_loss: 0.4588 - val_accuracy: 0.9200\n",
            "Epoch 3/20\n",
            "32/32 [==============================] - 60s 2s/step - loss: 0.4818 - accuracy: 0.7625 - val_loss: 0.4562 - val_accuracy: 0.8200\n",
            "Epoch 4/20\n",
            "32/32 [==============================] - 61s 2s/step - loss: 0.4763 - accuracy: 0.7625 - val_loss: 0.4426 - val_accuracy: 0.7800\n",
            "Epoch 5/20\n",
            "32/32 [==============================] - 60s 2s/step - loss: 0.3786 - accuracy: 0.8188 - val_loss: 0.4115 - val_accuracy: 0.8200\n",
            "Epoch 6/20\n",
            "32/32 [==============================] - 60s 2s/step - loss: 0.3405 - accuracy: 0.8687 - val_loss: 0.3040 - val_accuracy: 0.8400\n",
            "Epoch 7/20\n",
            "32/32 [==============================] - 60s 2s/step - loss: 0.3588 - accuracy: 0.8750 - val_loss: 0.2680 - val_accuracy: 0.9400\n",
            "Epoch 8/20\n",
            "32/32 [==============================] - 60s 2s/step - loss: 0.3000 - accuracy: 0.9000 - val_loss: 0.2809 - val_accuracy: 0.9200\n",
            "Epoch 9/20\n",
            "32/32 [==============================] - 60s 2s/step - loss: 0.2674 - accuracy: 0.9062 - val_loss: 0.2441 - val_accuracy: 0.9200\n",
            "Epoch 10/20\n",
            "32/32 [==============================] - 60s 2s/step - loss: 0.2822 - accuracy: 0.9187 - val_loss: 0.3031 - val_accuracy: 0.8800\n",
            "Epoch 11/20\n",
            "32/32 [==============================] - 60s 2s/step - loss: 0.2339 - accuracy: 0.9187 - val_loss: 0.2652 - val_accuracy: 0.9000\n",
            "Epoch 12/20\n",
            "32/32 [==============================] - 60s 2s/step - loss: 0.2350 - accuracy: 0.9438 - val_loss: 0.1829 - val_accuracy: 0.9400\n",
            "Epoch 13/20\n",
            "32/32 [==============================] - 60s 2s/step - loss: 0.2195 - accuracy: 0.9438 - val_loss: 0.1844 - val_accuracy: 0.9800\n",
            "Epoch 14/20\n",
            "32/32 [==============================] - 60s 2s/step - loss: 0.2152 - accuracy: 0.9250 - val_loss: 0.1832 - val_accuracy: 0.9600\n",
            "Epoch 15/20\n",
            "32/32 [==============================] - 60s 2s/step - loss: 0.1859 - accuracy: 0.9500 - val_loss: 0.1561 - val_accuracy: 0.9800\n",
            "Epoch 16/20\n",
            "32/32 [==============================] - 60s 2s/step - loss: 0.1998 - accuracy: 0.9375 - val_loss: 0.2005 - val_accuracy: 0.9400\n",
            "Epoch 17/20\n",
            "32/32 [==============================] - 52s 2s/step - loss: 0.1811 - accuracy: 0.9375 - val_loss: 0.2088 - val_accuracy: 0.9000\n",
            "Epoch 18/20\n",
            "32/32 [==============================] - 60s 2s/step - loss: 0.1808 - accuracy: 0.9563 - val_loss: 0.1949 - val_accuracy: 0.9400\n",
            "Epoch 19/20\n",
            "32/32 [==============================] - 60s 2s/step - loss: 0.1861 - accuracy: 0.9438 - val_loss: 0.1792 - val_accuracy: 0.9400\n",
            "Epoch 20/20\n",
            "32/32 [==============================] - 60s 2s/step - loss: 0.1871 - accuracy: 0.9438 - val_loss: 0.1634 - val_accuracy: 0.9400\n"
          ]
        }
      ],
      "source": [
        "finetune_model.compile(loss='binary_crossentropy', optimizer=optimizers.Adam(learning_rate=0.0002), metrics=['accuracy'])\n",
        "\n",
        "early_stopping_callback = EarlyStopping(monitor='val_loss', patience=5)\n",
        "\n",
        "history = finetune_model.fit(\n",
        "       train_generator,\n",
        "       epochs=20,\n",
        "       validation_data=test_generator,\n",
        "       validation_steps=10,\n",
        "       callbacks=[early_stopping_callback])"
      ]
    },
    {
      "cell_type": "code",
      "execution_count": 8,
      "metadata": {
        "id": "awJ5ZA82w97L",
        "outputId": "e6a061f1-5bc8-44f3-dc01-2c1a9ec23c20",
        "colab": {
          "base_uri": "https://localhost:8080/",
          "height": 449
        }
      },
      "outputs": [
        {
          "output_type": "display_data",
          "data": {
            "text/plain": [
              "<Figure size 640x480 with 1 Axes>"
            ],
            "image/png": "[encoded data removed]"
          },
          "metadata": {}
        }
      ],
      "source": [
        "y_vloss = history.history['val_loss']\n",
        "y_loss = history.history['loss']\n",
        "\n",
        "x_len = np.arange(len(y_loss))\n",
        "plt.plot(x_len, y_vloss, marker='.', c=\"red\", label='Testset_loss')\n",
        "plt.plot(x_len, y_loss, marker='.', c=\"blue\", label='Trainset_loss')\n",
        "\n",
        "plt.legend(loc='upper right')\n",
        "plt.grid()\n",
        "plt.xlabel('epoch')\n",
        "plt.ylabel('loss')\n",
        "plt.show()"
      ]
    }
  ],
  "metadata": {
    "colab": {
      "provenance": [],
      "include_colab_link": true
    },
    "kernelspec": {
      "display_name": "Python 3 (ipykernel)",
      "language": "python",
      "name": "python3"
    },
    "language_info": {
      "codemirror_mode": {
        "name": "ipython",
        "version": 3
      },
      "file_extension": ".py",
      "mimetype": "text/x-python",
      "name": "python",
      "nbconvert_exporter": "python",
      "pygments_lexer": "ipython3",
      "version": "3.9.7"
    }
  },
  "nbformat": 4,
  "nbformat_minor": 0
}