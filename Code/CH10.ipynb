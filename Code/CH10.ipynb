{
  "cells": [
    {
      "cell_type": "markdown",
      "metadata": {
        "id": "view-in-github",
        "colab_type": "text"
      },
      "source": [
        "<a href=\"https://colab.research.google.com/github/jdy5294/All_Deep_Learning/blob/main/Code/CH10.ipynb\" target=\"_parent\"><img src=\"https://colab.research.google.com/assets/colab-badge.svg\" alt=\"Open In Colab\"/></a>"
      ]
    },
    {
      "cell_type": "markdown",
      "metadata": {
        "id": "TbNC8_Rxbxqq"
      },
      "source": [
        "# 2장. 딥러닝 핵심 미리보기"
      ]
    },
    {
      "cell_type": "markdown",
      "metadata": {
        "id": "B2QakQWkbxqt"
      },
      "source": [
        "### 1. 환경 준비"
      ]
    },
    {
      "cell_type": "code",
      "execution_count": null,
      "metadata": {
        "id": "LDZBkkUqbxqu"
      },
      "outputs": [],
      "source": [
        "from tensorflow.keras.models import Sequential\n",
        "from tensorflow.keras.layers import Dense\n",
        "import numpy as np"
      ]
    },
    {
      "cell_type": "markdown",
      "metadata": {
        "id": "fOHdkAnDbxqv"
      },
      "source": [
        "### 2. 데이터 준비"
      ]
    },
    {
      "cell_type": "code",
      "source": [
        "!git clone https://github.com/taehojo/data.git"
      ],
      "metadata": {
        "id": "YXG0HwRPfgGY",
        "outputId": "0f858e21-8f1a-47c1-ddab-9e739a201a5d",
        "colab": {
          "base_uri": "https://localhost:8080/"
        }
      },
      "execution_count": null,
      "outputs": [
        {
          "output_type": "stream",
          "name": "stdout",
          "text": [
            "Cloning into 'data'...\n",
            "remote: Enumerating objects: 21, done.\u001b[K\n",
            "remote: Counting objects: 100% (21/21), done.\u001b[K\n",
            "remote: Compressing objects: 100% (18/18), done.\u001b[K\n",
            "remote: Total 21 (delta 3), reused 20 (delta 2), pack-reused 0\u001b[K\n",
            "Receiving objects: 100% (21/21), 460.95 KiB | 4.19 MiB/s, done.\n",
            "Resolving deltas: 100% (3/3), done.\n"
          ]
        }
      ]
    },
    {
      "cell_type": "code",
      "execution_count": null,
      "metadata": {
        "id": "wDazNVo_bxqv"
      },
      "outputs": [],
      "source": [
        "Data_set = np.loadtxt(\"./data/ThoraricSurgery3.csv\", delimiter=\",\")\n",
        "X = Data_set[:,0:16]\n",
        "y = Data_set[:,16]"
      ]
    },
    {
      "cell_type": "markdown",
      "metadata": {
        "id": "ep6dyuOfbxqw"
      },
      "source": [
        "### 3. 구조 결정"
      ]
    },
    {
      "cell_type": "code",
      "execution_count": null,
      "metadata": {
        "id": "4tyOzbBVbxqw"
      },
      "outputs": [],
      "source": [
        "model = Sequential()                                                  # 딥러닝 한 층 씩 추가\n",
        "model.add(Dense(30, input_dim=16, activation='relu'))\n",
        "model.add(Dense(1, activation='sigmoid'))"
      ]
    },
    {
      "cell_type": "markdown",
      "metadata": {
        "id": "iE8M2-_Ebxqx"
      },
      "source": [
        "### 4. 모델 실행"
      ]
    },
    {
      "cell_type": "markdown",
      "source": [
        "- 교차 엔트로피 오차 함수:\n",
        "  - categorical_crossentropy (다항 분류)\n",
        "  - binary_crossentropy (이항 분류)\n",
        "\n",
        "- metrics:\n",
        "  - 'accuracy': 학습셋에 대한 정확도에 기반해 결과 출력\n",
        "  - 'loss': 학습셋에 대한 손실 값\n",
        "  - 'val_acc': 테스트셋에 대한 정확도\n",
        "  - 'val_loss': 테스트셋에 대한 손실 값\n"
      ],
      "metadata": {
        "id": "lOZgx_-M4vIR"
      }
    },
    {
      "cell_type": "code",
      "source": [
        "model.compile(loss='binary_crossentropy', optimizer='adam', metrics=['accuracy'])"
      ],
      "metadata": {
        "id": "6kd7oCVX5s8-"
      },
      "execution_count": null,
      "outputs": []
    },
    {
      "cell_type": "markdown",
      "source": [
        "- epoch: 학습 프로세스가 모든 샘플에 대해 한 번 실행\n",
        "- batch_size: 샘플을 한 번에 몇 개씩 처리할지 결정 (너무 크면 학습 속도가 느려지고, 너무 작으면 각 실행 값의 편차가 생겨 전체 결과값이 불안정)"
      ],
      "metadata": {
        "id": "Mrm2CNpn5uxY"
      }
    },
    {
      "cell_type": "code",
      "execution_count": null,
      "metadata": {
        "id": "1uCvOjH5bxqy",
        "outputId": "cd59c729-79d0-4b08-b3b8-4eef6a9f0562",
        "colab": {
          "base_uri": "https://localhost:8080/"
        }
      },
      "outputs": [
        {
          "output_type": "stream",
          "name": "stdout",
          "text": [
            "Epoch 1/5\n",
            "30/30 [==============================] - 1s 3ms/step - loss: 2.0480 - accuracy: 0.4723\n",
            "Epoch 2/5\n",
            "30/30 [==============================] - 0s 2ms/step - loss: 0.5336 - accuracy: 0.8511\n",
            "Epoch 3/5\n",
            "30/30 [==============================] - 0s 2ms/step - loss: 0.4348 - accuracy: 0.8511\n",
            "Epoch 4/5\n",
            "30/30 [==============================] - 0s 2ms/step - loss: 0.4330 - accuracy: 0.8511\n",
            "Epoch 5/5\n",
            "30/30 [==============================] - 0s 2ms/step - loss: 0.4270 - accuracy: 0.8511\n"
          ]
        }
      ],
      "source": [
        "history=model.fit(X, y, epochs=5, batch_size=16)"
      ]
    }
  ],
  "metadata": {
    "kernelspec": {
      "display_name": "Python 3",
      "name": "python3"
    },
    "language_info": {
      "codemirror_mode": {
        "name": "ipython",
        "version": 3
      },
      "file_extension": ".py",
      "mimetype": "text/x-python",
      "name": "python",
      "nbconvert_exporter": "python",
      "pygments_lexer": "ipython3",
      "version": "3.9.7"
    },
    "colab": {
      "provenance": [],
      "toc_visible": true,
      "include_colab_link": true
    },
    "accelerator": "TPU"
  },
  "nbformat": 4,
  "nbformat_minor": 0
}